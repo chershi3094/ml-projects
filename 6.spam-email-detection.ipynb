{
 "cells": [
  {
   "cell_type": "code",
   "execution_count": 1,
   "id": "047b5f19",
   "metadata": {
    "_cell_guid": "b1076dfc-b9ad-4769-8c92-a6c4dae69d19",
    "_uuid": "8f2839f25d086af736a60e9eeb907d3b93b6e0e5",
    "execution": {
     "iopub.execute_input": "2025-07-20T12:39:40.760800Z",
     "iopub.status.busy": "2025-07-20T12:39:40.760485Z",
     "iopub.status.idle": "2025-07-20T12:39:45.318047Z",
     "shell.execute_reply": "2025-07-20T12:39:45.316888Z"
    },
    "papermill": {
     "duration": 4.563517,
     "end_time": "2025-07-20T12:39:45.320126",
     "exception": false,
     "start_time": "2025-07-20T12:39:40.756609",
     "status": "completed"
    },
    "tags": []
   },
   "outputs": [],
   "source": [
    "import pandas as pd\n",
    "import numpy as np\n",
    "import matplotlib.pyplot as plt\n",
    "import seaborn as sns\n",
    "\n",
    "from sklearn.model_selection import train_test_split\n",
    "from sklearn.feature_extraction.text import TfidfVectorizer\n",
    "from sklearn.naive_bayes import MultinomialNB\n",
    "from sklearn.linear_model import LogisticRegression\n",
    "from sklearn.metrics import classification_report, confusion_matrix, accuracy_score\n"
   ]
  },
  {
   "cell_type": "code",
   "execution_count": 2,
   "id": "95fb0efe",
   "metadata": {
    "execution": {
     "iopub.execute_input": "2025-07-20T12:39:45.326457Z",
     "iopub.status.busy": "2025-07-20T12:39:45.325954Z",
     "iopub.status.idle": "2025-07-20T12:39:45.466918Z",
     "shell.execute_reply": "2025-07-20T12:39:45.466000Z"
    },
    "papermill": {
     "duration": 0.145729,
     "end_time": "2025-07-20T12:39:45.468524",
     "exception": false,
     "start_time": "2025-07-20T12:39:45.322795",
     "status": "completed"
    },
    "tags": []
   },
   "outputs": [
    {
     "data": {
      "text/html": [
       "<div>\n",
       "<style scoped>\n",
       "    .dataframe tbody tr th:only-of-type {\n",
       "        vertical-align: middle;\n",
       "    }\n",
       "\n",
       "    .dataframe tbody tr th {\n",
       "        vertical-align: top;\n",
       "    }\n",
       "\n",
       "    .dataframe thead th {\n",
       "        text-align: right;\n",
       "    }\n",
       "</style>\n",
       "<table border=\"1\" class=\"dataframe\">\n",
       "  <thead>\n",
       "    <tr style=\"text-align: right;\">\n",
       "      <th></th>\n",
       "      <th>label</th>\n",
       "      <th>message</th>\n",
       "    </tr>\n",
       "  </thead>\n",
       "  <tbody>\n",
       "    <tr>\n",
       "      <th>0</th>\n",
       "      <td>ham</td>\n",
       "      <td>Go until jurong point, crazy.. Available only ...</td>\n",
       "    </tr>\n",
       "    <tr>\n",
       "      <th>1</th>\n",
       "      <td>ham</td>\n",
       "      <td>Ok lar... Joking wif u oni...</td>\n",
       "    </tr>\n",
       "    <tr>\n",
       "      <th>2</th>\n",
       "      <td>spam</td>\n",
       "      <td>Free entry in 2 a wkly comp to win FA Cup fina...</td>\n",
       "    </tr>\n",
       "    <tr>\n",
       "      <th>3</th>\n",
       "      <td>ham</td>\n",
       "      <td>U dun say so early hor... U c already then say...</td>\n",
       "    </tr>\n",
       "    <tr>\n",
       "      <th>4</th>\n",
       "      <td>ham</td>\n",
       "      <td>Nah I don't think he goes to usf, he lives aro...</td>\n",
       "    </tr>\n",
       "  </tbody>\n",
       "</table>\n",
       "</div>"
      ],
      "text/plain": [
       "  label                                            message\n",
       "0   ham  Go until jurong point, crazy.. Available only ...\n",
       "1   ham                      Ok lar... Joking wif u oni...\n",
       "2  spam  Free entry in 2 a wkly comp to win FA Cup fina...\n",
       "3   ham  U dun say so early hor... U c already then say...\n",
       "4   ham  Nah I don't think he goes to usf, he lives aro..."
      ]
     },
     "execution_count": 2,
     "metadata": {},
     "output_type": "execute_result"
    }
   ],
   "source": [
    "# Load dataset from online\n",
    "url = \"https://raw.githubusercontent.com/justmarkham/pycon-2016-tutorial/master/data/sms.tsv\"\n",
    "df = pd.read_csv(url, sep='\\t', header=None, names=['label', 'message'])\n",
    "\n",
    "df.head()\n"
   ]
  },
  {
   "cell_type": "code",
   "execution_count": 3,
   "id": "9ab0ef11",
   "metadata": {
    "execution": {
     "iopub.execute_input": "2025-07-20T12:39:45.474493Z",
     "iopub.status.busy": "2025-07-20T12:39:45.474198Z",
     "iopub.status.idle": "2025-07-20T12:39:45.795284Z",
     "shell.execute_reply": "2025-07-20T12:39:45.794309Z"
    },
    "papermill": {
     "duration": 0.325634,
     "end_time": "2025-07-20T12:39:45.796639",
     "exception": false,
     "start_time": "2025-07-20T12:39:45.471005",
     "status": "completed"
    },
    "tags": []
   },
   "outputs": [
    {
     "data": {
      "image/png": "[encoded data removed]",
      "text/plain": [
       "<Figure size 640x480 with 1 Axes>"
      ]
     },
     "metadata": {},
     "output_type": "display_data"
    }
   ],
   "source": [
    "# Convert labels to binary\n",
    "df['label'] = df['label'].map({'ham': 0, 'spam': 1})\n",
    "\n",
    "# Check class balance\n",
    "df['label'].value_counts().plot(kind='bar', title='Class Distribution')\n",
    "plt.xticks([0, 1], ['Ham', 'Spam'], rotation=0)\n",
    "plt.show()\n"
   ]
  },
  {
   "cell_type": "code",
   "execution_count": 4,
   "id": "7b4c56f8",
   "metadata": {
    "execution": {
     "iopub.execute_input": "2025-07-20T12:39:45.803005Z",
     "iopub.status.busy": "2025-07-20T12:39:45.802688Z",
     "iopub.status.idle": "2025-07-20T12:39:45.927815Z",
     "shell.execute_reply": "2025-07-20T12:39:45.926931Z"
    },
    "papermill": {
     "duration": 0.130139,
     "end_time": "2025-07-20T12:39:45.929391",
     "exception": false,
     "start_time": "2025-07-20T12:39:45.799252",
     "status": "completed"
    },
    "tags": []
   },
   "outputs": [],
   "source": [
    "X = df['message']\n",
    "y = df['label']\n",
    "\n",
    "# Split data\n",
    "X_train, X_test, y_train, y_test = train_test_split(X, y, test_size=0.2, random_state=42)\n",
    "\n",
    "# Convert text to TF-IDF features\n",
    "tfidf = TfidfVectorizer(stop_words='english', max_df=0.7)\n",
    "X_train_tfidf = tfidf.fit_transform(X_train)\n",
    "X_test_tfidf = tfidf.transform(X_test)\n"
   ]
  },
  {
   "cell_type": "code",
   "execution_count": 5,
   "id": "85c90870",
   "metadata": {
    "execution": {
     "iopub.execute_input": "2025-07-20T12:39:45.936335Z",
     "iopub.status.busy": "2025-07-20T12:39:45.935551Z",
     "iopub.status.idle": "2025-07-20T12:39:46.162501Z",
     "shell.execute_reply": "2025-07-20T12:39:46.159012Z"
    },
    "papermill": {
     "duration": 0.23262,
     "end_time": "2025-07-20T12:39:46.164692",
     "exception": false,
     "start_time": "2025-07-20T12:39:45.932072",
     "status": "completed"
    },
    "tags": []
   },
   "outputs": [],
   "source": [
    "# Naive Bayes\n",
    "nb = MultinomialNB()\n",
    "nb.fit(X_train_tfidf, y_train)\n",
    "nb_pred = nb.predict(X_test_tfidf)\n",
    "\n",
    "# Logistic Regression\n",
    "lr = LogisticRegression()\n",
    "lr.fit(X_train_tfidf, y_train)\n",
    "lr_pred = lr.predict(X_test_tfidf)\n"
   ]
  },
  {
   "cell_type": "code",
   "execution_count": 6,
   "id": "1c258199",
   "metadata": {
    "execution": {
     "iopub.execute_input": "2025-07-20T12:39:46.177956Z",
     "iopub.status.busy": "2025-07-20T12:39:46.176278Z",
     "iopub.status.idle": "2025-07-20T12:39:46.210934Z",
     "shell.execute_reply": "2025-07-20T12:39:46.209951Z"
    },
    "papermill": {
     "duration": 0.042852,
     "end_time": "2025-07-20T12:39:46.213104",
     "exception": false,
     "start_time": "2025-07-20T12:39:46.170252",
     "status": "completed"
    },
    "tags": []
   },
   "outputs": [
    {
     "name": "stdout",
     "output_type": "stream",
     "text": [
      "Naive Bayes Accuracy: 0.97847533632287\n",
      "Logistic Regression Accuracy: 0.9695067264573991\n",
      "\n",
      "Naive Bayes Classification Report:\n",
      "              precision    recall  f1-score   support\n",
      "\n",
      "           0       0.98      1.00      0.99       966\n",
      "           1       1.00      0.84      0.91       149\n",
      "\n",
      "    accuracy                           0.98      1115\n",
      "   macro avg       0.99      0.92      0.95      1115\n",
      "weighted avg       0.98      0.98      0.98      1115\n",
      "\n",
      "\n",
      "Logistic Regression Classification Report:\n",
      "              precision    recall  f1-score   support\n",
      "\n",
      "           0       0.97      1.00      0.98       966\n",
      "           1       1.00      0.77      0.87       149\n",
      "\n",
      "    accuracy                           0.97      1115\n",
      "   macro avg       0.98      0.89      0.93      1115\n",
      "weighted avg       0.97      0.97      0.97      1115\n",
      "\n"
     ]
    }
   ],
   "source": [
    "print(\"Naive Bayes Accuracy:\", accuracy_score(y_test, nb_pred))\n",
    "print(\"Logistic Regression Accuracy:\", accuracy_score(y_test, lr_pred))\n",
    "\n",
    "print(\"\\nNaive Bayes Classification Report:\")\n",
    "print(classification_report(y_test, nb_pred))\n",
    "\n",
    "print(\"\\nLogistic Regression Classification Report:\")\n",
    "print(classification_report(y_test, lr_pred))\n"
   ]
  },
  {
   "cell_type": "code",
   "execution_count": 7,
   "id": "1cede47a",
   "metadata": {
    "execution": {
     "iopub.execute_input": "2025-07-20T12:39:46.223044Z",
     "iopub.status.busy": "2025-07-20T12:39:46.222467Z",
     "iopub.status.idle": "2025-07-20T12:39:46.233915Z",
     "shell.execute_reply": "2025-07-20T12:39:46.231920Z"
    },
    "papermill": {
     "duration": 0.019569,
     "end_time": "2025-07-20T12:39:46.236732",
     "exception": false,
     "start_time": "2025-07-20T12:39:46.217163",
     "status": "completed"
    },
    "tags": []
   },
   "outputs": [
    {
     "name": "stdout",
     "output_type": "stream",
     "text": [
      "Prediction (1 = Spam, 0 = Ham): 0\n"
     ]
    }
   ],
   "source": [
    "sample = [\"Congratulations! You've won a free ticket to the Bahamas. Call now!\"]\n",
    "sample_vec = tfidf.transform(sample)\n",
    "\n",
    "print(\"Prediction (1 = Spam, 0 = Ham):\", nb.predict(sample_vec)[0])\n"
   ]
  }
 ],
 "metadata": {
  "kaggle": {
   "accelerator": "none",
   "dataSources": [],
   "dockerImageVersionId": 31089,
   "isGpuEnabled": false,
   "isInternetEnabled": true,
   "language": "python",
   "sourceType": "notebook"
  },
  "kernelspec": {
   "display_name": "Python 3",
   "language": "python",
   "name": "python3"
  },
  "language_info": {
   "codemirror_mode": {
    "name": "ipython",
    "version": 3
   },
   "file_extension": ".py",
   "mimetype": "text/x-python",
   "name": "python",
   "nbconvert_exporter": "python",
   "pygments_lexer": "ipython3",
   "version": "3.11.13"
  },
  "papermill": {
   "default_parameters": {},
   "duration": 11.439038,
   "end_time": "2025-07-20T12:39:47.062714",
   "environment_variables": {},
   "exception": null,
   "input_path": "__notebook__.ipynb",
   "output_path": "__notebook__.ipynb",
   "parameters": {},
   "start_time": "2025-07-20T12:39:35.623676",
   "version": "2.6.0"
  }
 },
 "nbformat": 4,
 "nbformat_minor": 5
}
