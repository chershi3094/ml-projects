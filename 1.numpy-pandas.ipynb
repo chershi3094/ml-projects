{
 "cells": [
  {
   "cell_type": "code",
   "execution_count": 1,
   "id": "bb51adad",
   "metadata": {
    "execution": {
     "iopub.execute_input": "2025-07-20T10:47:34.218380Z",
     "iopub.status.busy": "2025-07-20T10:47:34.218083Z",
     "iopub.status.idle": "2025-07-20T10:47:34.228924Z",
     "shell.execute_reply": "2025-07-20T10:47:34.227897Z"
    },
    "papermill": {
     "duration": 0.015516,
     "end_time": "2025-07-20T10:47:34.230378",
     "exception": false,
     "start_time": "2025-07-20T10:47:34.214862",
     "status": "completed"
    },
    "tags": []
   },
   "outputs": [
    {
     "name": "stdout",
     "output_type": "stream",
     "text": [
      "a: [1 2 3]\n",
      "b: [0 2 4 6 8]\n",
      "c:\n",
      " [[0.08365368 0.90703195 0.70988572]\n",
      " [0.99023412 0.55066234 0.58638137]\n",
      " [0.86076037 0.08339225 0.60939448]]\n"
     ]
    }
   ],
   "source": [
    "import numpy as np\n",
    "\n",
    "a = np.array([1, 2, 3])\n",
    "b = np.arange(0, 10, 2)\n",
    "c = np.random.rand(3, 3)\n",
    "\n",
    "print(\"a:\", a)\n",
    "print(\"b:\", b)\n",
    "print(\"c:\\n\", c)"
   ]
  },
  {
   "cell_type": "code",
   "execution_count": 2,
   "id": "39e9c18a",
   "metadata": {
    "execution": {
     "iopub.execute_input": "2025-07-20T10:47:34.235195Z",
     "iopub.status.busy": "2025-07-20T10:47:34.234924Z",
     "iopub.status.idle": "2025-07-20T10:47:34.245089Z",
     "shell.execute_reply": "2025-07-20T10:47:34.244023Z"
    },
    "papermill": {
     "duration": 0.014082,
     "end_time": "2025-07-20T10:47:34.246495",
     "exception": false,
     "start_time": "2025-07-20T10:47:34.232413",
     "status": "completed"
    },
    "tags": []
   },
   "outputs": [
    {
     "name": "stdout",
     "output_type": "stream",
     "text": [
      "Original array:\n",
      " [[1 2 3]\n",
      " [4 5 6]]\n",
      "Reshaped to 3x2:\n",
      " [[1 2]\n",
      " [3 4]\n",
      " [5 6]]\n",
      "First row: [1 2 3]\n",
      "Second column: [2 5]\n",
      "Sub-array:\n",
      " [[2 3]\n",
      " [5 6]]\n",
      "Matrix Multiplication:\n",
      " [[19 22]\n",
      " [43 50]]\n",
      "Shape of x: (2, 2)\n",
      "Transpose of x:\n",
      " [[1 3]\n",
      " [2 4]]\n",
      "Random 4x4 array:\n",
      " [[91 35 38 54]\n",
      " [99 61 38 59]\n",
      " [41 69 96 46]\n",
      " [92 98 25  3]]\n",
      "Mean: 59.0625\n",
      "Max: 99\n",
      "Sum by row: [218 257 252 218]\n"
     ]
    }
   ],
   "source": [
    "import numpy as np\n",
    "\n",
    "a = np.array([[1, 2, 3], [4, 5, 6]])\n",
    "print(\"Original array:\\n\", a)\n",
    "\n",
    "reshaped = a.reshape((3, 2))\n",
    "print(\"Reshaped to 3x2:\\n\", reshaped)\n",
    "\n",
    "print(\"First row:\", a[0])\n",
    "print(\"Second column:\", a[:, 1])\n",
    "print(\"Sub-array:\\n\", a[0:2, 1:3])\n",
    "\n",
    "x = np.array([[1, 2], [3, 4]])\n",
    "y = np.array([[5, 6], [7, 8]])\n",
    "product = np.dot(x, y)\n",
    "print(\"Matrix Multiplication:\\n\", product)\n",
    "\n",
    "print(\"Shape of x:\", x.shape)\n",
    "print(\"Transpose of x:\\n\", x.T)\n",
    "\n",
    "random_array = np.random.randint(1, 100, (4, 4))\n",
    "print(\"Random 4x4 array:\\n\", random_array)\n",
    "print(\"Mean:\", np.mean(random_array))\n",
    "print(\"Max:\", np.max(random_array))\n",
    "print(\"Sum by row:\", np.sum(random_array, axis=1))\n"
   ]
  },
  {
   "cell_type": "code",
   "execution_count": 3,
   "id": "8209989c",
   "metadata": {
    "execution": {
     "iopub.execute_input": "2025-07-20T10:47:34.250855Z",
     "iopub.status.busy": "2025-07-20T10:47:34.250556Z",
     "iopub.status.idle": "2025-07-20T10:47:36.172119Z",
     "shell.execute_reply": "2025-07-20T10:47:36.171073Z"
    },
    "papermill": {
     "duration": 1.925394,
     "end_time": "2025-07-20T10:47:36.173671",
     "exception": false,
     "start_time": "2025-07-20T10:47:34.248277",
     "status": "completed"
    },
    "tags": []
   },
   "outputs": [
    {
     "name": "stdout",
     "output_type": "stream",
     "text": [
      "      Name  Age  Score\n",
      "0    Alice   24     85\n",
      "1      Bob   27     90\n",
      "2  Charlie   22     95\n",
      "First 5 rows:\n",
      "    sepal_length  sepal_width  petal_length  petal_width species\n",
      "0           5.1          3.5           1.4          0.2  setosa\n",
      "1           4.9          3.0           1.4          0.2  setosa\n",
      "2           4.7          3.2           1.3          0.2  setosa\n",
      "3           4.6          3.1           1.5          0.2  setosa\n",
      "4           5.0          3.6           1.4          0.2  setosa\n",
      "\n",
      "Shape: (150, 5)\n",
      "\n",
      "Columns: Index(['sepal_length', 'sepal_width', 'petal_length', 'petal_width',\n",
      "       'species'],\n",
      "      dtype='object')\n",
      "\n",
      "Summary:\n",
      "        sepal_length  sepal_width  petal_length  petal_width\n",
      "count    150.000000   150.000000    150.000000   150.000000\n",
      "mean       5.843333     3.057333      3.758000     1.199333\n",
      "std        0.828066     0.435866      1.765298     0.762238\n",
      "min        4.300000     2.000000      1.000000     0.100000\n",
      "25%        5.100000     2.800000      1.600000     0.300000\n",
      "50%        5.800000     3.000000      4.350000     1.300000\n",
      "75%        6.400000     3.300000      5.100000     1.800000\n",
      "max        7.900000     4.400000      6.900000     2.500000\n",
      "0    setosa\n",
      "1    setosa\n",
      "2    setosa\n",
      "3    setosa\n",
      "4    setosa\n",
      "Name: species, dtype: object\n",
      "   sepal_length  petal_length\n",
      "0           5.1           1.4\n",
      "1           4.9           1.4\n",
      "2           4.7           1.3\n",
      "3           4.6           1.5\n",
      "4           5.0           1.4\n",
      "   sepal_length  sepal_width  petal_length  petal_width species\n",
      "0           5.1          3.5           1.4          0.2  setosa\n",
      "1           4.9          3.0           1.4          0.2  setosa\n",
      "2           4.7          3.2           1.3          0.2  setosa\n",
      "3           4.6          3.1           1.5          0.2  setosa\n",
      "4           5.0          3.6           1.4          0.2  setosa\n",
      "    sepal_length  sepal_width  petal_length  petal_width species\n",
      "5            5.4          3.9           1.7          0.4  setosa\n",
      "11           4.8          3.4           1.6          0.2  setosa\n",
      "18           5.7          3.8           1.7          0.3  setosa\n",
      "20           5.4          3.4           1.7          0.2  setosa\n",
      "23           5.1          3.3           1.7          0.5  setosa\n",
      "species\n",
      "setosa        1.462\n",
      "versicolor    4.260\n",
      "virginica     5.552\n",
      "Name: petal_length, dtype: float64\n",
      "sepal_length    0\n",
      "sepal_width     0\n",
      "petal_length    0\n",
      "petal_width     0\n",
      "species         0\n",
      "dtype: int64\n"
     ]
    }
   ],
   "source": [
    "import pandas as pd\n",
    "\n",
    "# Create DataFrame\n",
    "data = {\n",
    "    'Name': ['Alice', 'Bob', 'Charlie'],\n",
    "    'Age': [24, 27, 22],\n",
    "    'Score': [85, 90, 95]\n",
    "}\n",
    "df = pd.DataFrame(data)\n",
    "print(df)\n",
    "\n",
    "# Load dataset\n",
    "url = \"https://raw.githubusercontent.com/mwaskom/seaborn-data/master/iris.csv\"\n",
    "df = pd.read_csv(url)\n",
    "\n",
    "print(\"First 5 rows:\\n\", df.head())\n",
    "print(\"\\nShape:\", df.shape)\n",
    "print(\"\\nColumns:\", df.columns)\n",
    "print(\"\\nSummary:\\n\", df.describe())\n",
    "\n",
    "# Select one column\n",
    "print(df['species'].head())\n",
    "\n",
    "# Select multiple columns\n",
    "print(df[['sepal_length', 'petal_length']].head())\n",
    "\n",
    "# Select rows\n",
    "print(df.iloc[0:5])  # first 5 rows\n",
    "\n",
    "# Filter rows where petal_length > 1.5\n",
    "filtered = df[df['petal_length'] > 1.5]\n",
    "print(filtered.head())\n",
    "\n",
    "# Average petal length for each species\n",
    "grouped = df.groupby('species')['petal_length'].mean()\n",
    "print(grouped)\n",
    "\n",
    "print(df.isnull().sum())\n"
   ]
  },
  {
   "cell_type": "code",
   "execution_count": null,
   "id": "bfc408bb",
   "metadata": {
    "papermill": {
     "duration": 0.001604,
     "end_time": "2025-07-20T10:47:36.177224",
     "exception": false,
     "start_time": "2025-07-20T10:47:36.175620",
     "status": "completed"
    },
    "tags": []
   },
   "outputs": [],
   "source": []
  }
 ],
 "metadata": {
  "kaggle": {
   "accelerator": "none",
   "dataSources": [],
   "dockerImageVersionId": 31089,
   "isGpuEnabled": false,
   "isInternetEnabled": true,
   "language": "python",
   "sourceType": "notebook"
  },
  "kernelspec": {
   "display_name": "Python 3",
   "language": "python",
   "name": "python3"
  },
  "language_info": {
   "codemirror_mode": {
    "name": "ipython",
    "version": 3
   },
   "file_extension": ".py",
   "mimetype": "text/x-python",
   "name": "python",
   "nbconvert_exporter": "python",
   "pygments_lexer": "ipython3",
   "version": "3.11.13"
  },
  "papermill": {
   "default_parameters": {},
   "duration": 8.003713,
   "end_time": "2025-07-20T10:47:36.698296",
   "environment_variables": {},
   "exception": null,
   "input_path": "__notebook__.ipynb",
   "output_path": "__notebook__.ipynb",
   "parameters": {},
   "start_time": "2025-07-20T10:47:28.694583",
   "version": "2.6.0"
  }
 },
 "nbformat": 4,
 "nbformat_minor": 5
}
