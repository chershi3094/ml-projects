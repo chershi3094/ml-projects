{
 "cells": [
  {
   "cell_type": "code",
   "execution_count": 1,
   "id": "e0cb3fa3",
   "metadata": {
    "_cell_guid": "b1076dfc-b9ad-4769-8c92-a6c4dae69d19",
    "_uuid": "8f2839f25d086af736a60e9eeb907d3b93b6e0e5",
    "execution": {
     "iopub.execute_input": "2025-07-21T15:59:06.674229Z",
     "iopub.status.busy": "2025-07-21T15:59:06.673933Z",
     "iopub.status.idle": "2025-07-21T15:59:11.339585Z",
     "shell.execute_reply": "2025-07-21T15:59:11.338576Z"
    },
    "papermill": {
     "duration": 4.670497,
     "end_time": "2025-07-21T15:59:11.341340",
     "exception": false,
     "start_time": "2025-07-21T15:59:06.670843",
     "status": "completed"
    },
    "tags": []
   },
   "outputs": [
    {
     "name": "stdout",
     "output_type": "stream",
     "text": [
      "✅ Dataset with 1 lakh entries saved as 'indian_temples_100000.csv'\n"
     ]
    }
   ],
   "source": [
    "import pandas as pd\n",
    "import random\n",
    "\n",
    "def generate_temple_entry(index):\n",
    "    temple_names = [\"Shiva\", \"Vishnu\", \"Durga\", \"Ganesh\", \"Hanuman\", \"Lakshmi\", \"Murugan\", \"Ayyappa\", \"Rama\", \"Krishna\"]\n",
    "    states = [\"Tamil Nadu\", \"Uttar Pradesh\", \"Karnataka\", \"Maharashtra\", \"Andhra Pradesh\", \"Kerala\", \"Odisha\", \"West Bengal\", \"Rajasthan\", \"Gujarat\"]\n",
    "    architectures = [\"Dravidian\", \"Nagara\", \"Kalinga\", \"Vesara\", \"Hoysala\", \"Chalukya\", \"Himalayan\"]\n",
    "    authorities = [\"ASI\", \"HRCE\", \"Temple Trust\", \"Private Trust\", \"State Govt\", \"Devotee Community\"]\n",
    "\n",
    "    name = f\"{random.choice(temple_names)} Temple #{index}\"\n",
    "    return {\n",
    "        \"Temple_Name\": name,\n",
    "        \"Deity\": random.choice(temple_names),\n",
    "        \"State\": random.choice(states),\n",
    "        \"District\": f\"District-{random.randint(1, 75)}\",\n",
    "        \"Town/City/Village\": f\"Town-{random.randint(1, 1000)}\",\n",
    "        \"Latitude\": round(random.uniform(8.0, 35.0), 6),\n",
    "        \"Longitude\": round(random.uniform(68.0, 97.0), 6),\n",
    "        \"Architecture_Style\": random.choice(architectures),\n",
    "        \"Established_Year\": f\"{random.randint(6, 18)}th century CE\",\n",
    "        \"Build_Date\": f\"{random.randint(500, 1900)} CE\",\n",
    "        \"Historical_Significance\": f\"Important historical significance of {name}\",\n",
    "        \"Festivals_Celebrated\": \", \".join(random.sample([\"Diwali\", \"Navaratri\", \"Maha Shivratri\", \"Rath Yatra\", \"Pongal\", \"Onam\"], 2)),\n",
    "        \"Managing_Authority\": random.choice(authorities),\n",
    "        \"Rituals_and_Pujas\": \", \".join(random.sample([\"Aarti\", \"Abhishekam\", \"Archana\", \"Bhajan\", \"Yagna\"], 2)),\n",
    "        \"Nearest_City\": f\"City-{random.randint(1, 500)}\",\n",
    "        \"Transport_Info\": \"Bus, Train, Airport\"\n",
    "    }\n",
    "\n",
    "# Generate 100000 entries\n",
    "dataset = [generate_temple_entry(i) for i in range(1, 100001)]\n",
    "\n",
    "# Create DataFrame and save\n",
    "df = pd.DataFrame(dataset)\n",
    "df.to_csv(\"indian_temples_100000.csv\", index=False)\n",
    "print(\"✅ Dataset with 1 lakh entries saved as 'indian_temples_100000.csv'\")\n"
   ]
  },
  {
   "cell_type": "code",
   "execution_count": null,
   "id": "9f2bb759",
   "metadata": {
    "papermill": {
     "duration": 0.001296,
     "end_time": "2025-07-21T15:59:11.344475",
     "exception": false,
     "start_time": "2025-07-21T15:59:11.343179",
     "status": "completed"
    },
    "tags": []
   },
   "outputs": [],
   "source": []
  }
 ],
 "metadata": {
  "kaggle": {
   "accelerator": "none",
   "dataSources": [],
   "dockerImageVersionId": 31089,
   "isGpuEnabled": false,
   "isInternetEnabled": true,
   "language": "python",
   "sourceType": "notebook"
  },
  "kernelspec": {
   "display_name": "Python 3",
   "language": "python",
   "name": "python3"
  },
  "language_info": {
   "codemirror_mode": {
    "name": "ipython",
    "version": 3
   },
   "file_extension": ".py",
   "mimetype": "text/x-python",
   "name": "python",
   "nbconvert_exporter": "python",
   "pygments_lexer": "ipython3",
   "version": "3.11.13"
  },
  "papermill": {
   "default_parameters": {},
   "duration": 9.986329,
   "end_time": "2025-07-21T15:59:11.865626",
   "environment_variables": {},
   "exception": null,
   "input_path": "__notebook__.ipynb",
   "output_path": "__notebook__.ipynb",
   "parameters": {},
   "start_time": "2025-07-21T15:59:01.879297",
   "version": "2.6.0"
  }
 },
 "nbformat": 4,
 "nbformat_minor": 5
}
